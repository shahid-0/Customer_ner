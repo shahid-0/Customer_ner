{
 "cells": [
  {
   "cell_type": "code",
   "execution_count": 1,
   "metadata": {},
   "outputs": [
    {
     "name": "stdout",
     "output_type": "stream",
     "text": [
      "Collecting langdetect\n",
      "  Using cached langdetect-1.0.9.tar.gz (981 kB)\n",
      "Requirement already satisfied: six in c:\\users\\shahid khan\\miniconda3\\envs\\dplearning\\lib\\site-packages (from langdetect) (1.16.0)\n",
      "Building wheels for collected packages: langdetect\n",
      "  Building wheel for langdetect (setup.py): started\n",
      "  Building wheel for langdetect (setup.py): finished with status 'done'\n",
      "  Created wheel for langdetect: filename=langdetect-1.0.9-py3-none-any.whl size=993246 sha256=92fd2454eb20539646734df5aa77dcc732c5bd3b7088201f1e698ed5f090f0f3\n",
      "  Stored in directory: c:\\users\\shahid khan\\appdata\\local\\pip\\cache\\wheels\\d1\\c1\\d9\\7e068de779d863bc8f8fc9467d85e25cfe47fa5051fff1a1bb\n",
      "Successfully built langdetect\n",
      "Installing collected packages: langdetect\n",
      "Successfully installed langdetect-1.0.9\n",
      "Note: you may need to restart the kernel to use updated packages.\n"
     ]
    }
   ],
   "source": [
    "pip install langdetect"
   ]
  },
  {
   "cell_type": "markdown",
   "metadata": {},
   "source": [
    "### Import both the models (Urdu & English)"
   ]
  },
  {
   "cell_type": "code",
   "execution_count": 3,
   "metadata": {},
   "outputs": [],
   "source": [
    "# import the libraries\n",
    "import spacy\n",
    "import pandas as pd\n",
    "from langdetect import detect\n",
    "import numpy as np"
   ]
  },
  {
   "cell_type": "code",
   "execution_count": 4,
   "metadata": {},
   "outputs": [],
   "source": [
    "# Load the urdu model\n",
    "nlp_ur = spacy.load('for Urdu/output/model-best')\n",
    "# Load the english model\n",
    "nlp_en = spacy.load('for English/output/model-best')"
   ]
  },
  {
   "cell_type": "code",
   "execution_count": 5,
   "metadata": {},
   "outputs": [],
   "source": [
    "doc_ur = '''سپورٹس ڈائریکٹریٹ خیبر پختونخواہ وزیراعلی خیبر پختونخواہ کی وزارت ہے جن کے پاس کھیلوں کی وزارت اور سیاحت کی ڈیپارٹمنٹ کیلئے اتنا وقت ہے کہ وہ اپنے سوشل میڈیا کے پیج پر کھیلوں کی تصاویر شیئر کرتے ہیں باقی وہ یا تو جانتے بوجھتے انجان بنتے ہیں یا پھر واقعی بقول پنجاب کے علیم خان کے \" چول \" ہیں‘ خیر ہم تو چول نہیں کہہ سکتے یہ ان کے اپنی پارٹی کے لیڈر کی بات ہے جو اب منخرف ہو چکے ہیں لیکن یہ بات کہہ سکتے ہیں کہ وزیراعلی خیبر پختونخواہ اپنے ڈیپارٹمنٹ کے معاملے میں اللہ میاں کے گائے ہیں‘ انہیں بیورو کریسی جو کرنے کو دیتی ہیں اسی پر دستخط کرتے ہیں آگے پیچھے دیکھنے کی شائدان کے پاس وقت نہیں کہ پتہ کرے کہ ان کے ڈیپارٹمنٹ میں کتنے افسران و اہلکاروں کی کمی ہے اور کتنے ایسے اہلکار جو بیورو کریسی کے ناک کے بال بن کر دو دو جگہوں پر ڈیوٹی کررہے ہیں‘ ان کی پسند کی جگہوں پر لوگوں کے تبادلے بھی کروائے جاتے ہیں کیونکہ نئے آنیوالے ڈائریکٹر جنرل سپورٹس کو بھی انڈسٹریز کی طرز پر چلانے کی کوششوں میں مصروف ہیں. غریب کھلاڑیوں کے پاس تو عزت نفس ہوتی ہیں اگر ان کے پاس عزت نفس بھی نہ ہو نہ ان کے مسائل حل ہوں تو پھر سپورٹس کو ان لوگوں نے چاٹنا ہے کیا‘ ویسے بھی وہ سپورٹس جس کے کھیلوں کے ڈیپارٹمنٹس کو \" ایک آمر \"نے صرف اس لئے بند کرنے کے احکامات دئیے ہیں کیونکہ پاکستان اولمپک ایسوسی ایشن میں ووٹ لینا ان کیلئے مسئلہ تھا. بات کہیں اور نکل گئی غریب عوام کے ٹیکسوں پر پلنے والے سپورٹس ڈائریکٹریٹ کے ان افسران سے پوچھنے کی کوئی جرات کرسکتا ہے کہ گذشتہ دو سالوں کی کارکردگی کیا تھی‘ پرانے ڈی جی نے کتنا کام کیا‘ ڈویلپمنٹ کی مد میں‘ کھیلوں کی مد میں‘ اور نئے ڈائریکٹر جنرل کی کارکردگی کیا ہے‘ مستقبل کیلئے کیا منصوبے ہیں کیا ڈائریکٹریٹ میں بیٹھے بڑے بڑے افسران صرف تنخواہیں لینے پر ہی قادر ہیں. گذشتہ چار ماہ سے تو سوائے تبادلوں کے سپورٹس ڈائریکٹریٹ میں کچھ بھی نہیں‘ وہ بھی مخصوص شخصیت کے کہنے پر'''\n",
    "\n",
    "doc_en = '''A cryptocurrency, crypto-currency, or crypto is a digital currency designed to work as a medium of exchange through a computer network that is not reliant on any central authority, such as a government or bank, to uphold or maintain it.\n",
    "\n",
    "Individual coin ownership records are stored in a digital ledger, which is a computerized database using strong cryptography to secure transaction records, to control the creation of additional coins, and to verify the transfer of coin ownership.[1][2][3] Despite their name, cryptocurrencies are not necessarily considered to be currencies in the traditional sense and while varying categorical treatments have been applied to them, including classification as commodities, securities, as well as currencies, cryptocurrencies are generally viewed as a distinct asset class in practice.[4][5][6] Some crypto schemes use validators to maintain the cryptocurrency. In a proof-of-stake model, owners put up their tokens as collateral. In return, they get authority over the token in proportion to the amount they stake. Generally, these token stakers get additional ownership in the token over time via network fees, newly minted tokens or other such reward mechanisms'''"
   ]
  },
  {
   "cell_type": "code",
   "execution_count": 6,
   "metadata": {},
   "outputs": [],
   "source": [
    "def start_predict(doc):\n",
    "    detector = detect(doc)\n",
    "    if detector == \"en\":\n",
    "        doc_en = nlp_en(doc)\n",
    "        return doc_en\n",
    "    else:\n",
    "        doc_ur = nlp_ur(doc)\n",
    "        return doc_ur"
   ]
  },
  {
   "cell_type": "code",
   "execution_count": 9,
   "metadata": {},
   "outputs": [],
   "source": [
    "doc_predict = start_predict(doc_ur)"
   ]
  },
  {
   "cell_type": "code",
   "execution_count": 11,
   "metadata": {},
   "outputs": [
    {
     "data": {
      "text/html": [
       "<span class=\"tex2jax_ignore\"><!DOCTYPE html>\n",
       "<html lang=\"en\">\n",
       "    <head>\n",
       "        <title>displaCy</title>\n",
       "    </head>\n",
       "\n",
       "    <body style=\"font-size: 16px; font-family: -apple-system, BlinkMacSystemFont, 'Segoe UI', Helvetica, Arial, sans-serif, 'Apple Color Emoji', 'Segoe UI Emoji', 'Segoe UI Symbol'; padding: 4rem 2rem; direction: ltr\">\n",
       "<figure style=\"margin-bottom: 6rem\">\n",
       "<div class=\"entities\" style=\"line-height: 2.5; direction: ltr\">سپورٹس ڈائریکٹریٹ \n",
       "<mark class=\"entity\" style=\"background: #ddd; padding: 0.45em 0.6em; margin: 0 0.25em; line-height: 1; border-radius: 0.35em;\">\n",
       "    خیبر پختونخواہ\n",
       "    <span style=\"font-size: 0.8em; font-weight: bold; line-height: 1; border-radius: 0.35em; vertical-align: middle; margin-left: 0.5rem\">REGION</span>\n",
       "</mark>\n",
       " وزیراعلی \n",
       "<mark class=\"entity\" style=\"background: #ddd; padding: 0.45em 0.6em; margin: 0 0.25em; line-height: 1; border-radius: 0.35em;\">\n",
       "    خیبر پختونخواہ\n",
       "    <span style=\"font-size: 0.8em; font-weight: bold; line-height: 1; border-radius: 0.35em; vertical-align: middle; margin-left: 0.5rem\">REGION</span>\n",
       "</mark>\n",
       " کی وزارت ہے جن کے پاس کھیلوں کی وزارت اور سیاحت کی ڈیپارٹمنٹ کیلئے اتنا وقت ہے کہ وہ اپنے سوشل میڈیا کے پیج پر کھیلوں کی تصاویر شیئر کرتے ہیں باقی وہ یا تو جانتے بوجھتے انجان بنتے ہیں یا پھر واقعی بقول پنجاب کے علیم خان کے &quot; چول &quot; ہیں‘ خیر ہم تو چول نہیں کہہ سکتے یہ ان کے اپنی پارٹی کے لیڈر کی بات ہے جو اب منخرف ہو چکے ہیں لیکن یہ بات کہہ سکتے ہیں کہ وزیراعلی \n",
       "<mark class=\"entity\" style=\"background: #ddd; padding: 0.45em 0.6em; margin: 0 0.25em; line-height: 1; border-radius: 0.35em;\">\n",
       "    خیبر پختونخواہ\n",
       "    <span style=\"font-size: 0.8em; font-weight: bold; line-height: 1; border-radius: 0.35em; vertical-align: middle; margin-left: 0.5rem\">REGION</span>\n",
       "</mark>\n",
       " اپنے ڈیپارٹمنٹ کے معاملے میں اللہ میاں کے گائے ہیں‘ انہیں بیورو کریسی جو کرنے کو دیتی ہیں اسی پر دستخط کرتے ہیں آگے پیچھے دیکھنے کی شائدان کے پاس وقت نہیں کہ پتہ کرے کہ ان کے ڈیپارٹمنٹ میں کتنے افسران و اہلکاروں کی کمی ہے اور کتنے ایسے اہلکار جو بیورو کریسی کے ناک کے بال بن کر دو دو جگہوں پر ڈیوٹی کررہے ہیں‘ ان کی پسند کی جگہوں پر لوگوں کے تبادلے بھی کروائے جاتے ہیں کیونکہ نئے آنیوالے ڈائریکٹر جنرل سپورٹس کو بھی انڈسٹریز کی طرز پر چلانے کی کوششوں میں مصروف ہیں. غریب کھلاڑیوں کے پاس تو عزت نفس ہوتی ہیں اگر ان کے پاس عزت نفس بھی نہ ہو نہ ان کے مسائل حل ہوں تو پھر سپورٹس کو ان لوگوں نے چاٹنا ہے کیا‘ ویسے بھی وہ سپورٹس جس کے کھیلوں کے ڈیپارٹمنٹس کو &quot; ایک آمر &quot;نے صرف اس لئے بند کرنے کے احکامات دئیے ہیں کیونکہ پاکستان اولمپک ایسوسی ایشن میں ووٹ لینا ان کیلئے مسئلہ تھا. بات کہیں اور نکل گئی غریب عوام کے ٹیکسوں پر پلنے والے سپورٹس ڈائریکٹریٹ کے ان افسران سے پوچھنے کی کوئی جرات کرسکتا ہے کہ گذشتہ دو سالوں کی کارکردگی کیا تھی‘ پرانے ڈی جی نے کتنا کام کیا‘ ڈویلپمنٹ کی مد میں‘ کھیلوں کی مد میں‘ اور نئے ڈائریکٹر جنرل کی کارکردگی کیا ہے‘ مستقبل کیلئے کیا منصوبے ہیں کیا ڈائریکٹریٹ میں بیٹھے بڑے بڑے افسران صرف تنخواہیں لینے پر ہی قادر ہیں. گذشتہ \n",
       "<mark class=\"entity\" style=\"background: #bfe1d9; padding: 0.45em 0.6em; margin: 0 0.25em; line-height: 1; border-radius: 0.35em;\">\n",
       "    چار ماہ\n",
       "    <span style=\"font-size: 0.8em; font-weight: bold; line-height: 1; border-radius: 0.35em; vertical-align: middle; margin-left: 0.5rem\">TIME</span>\n",
       "</mark>\n",
       " سے تو سوائے تبادلوں کے سپورٹس ڈائریکٹریٹ میں کچھ بھی نہیں‘ وہ بھی مخصوص شخصیت کے کہنے پر</div>\n",
       "</figure>\n",
       "</body>\n",
       "</html></span>"
      ],
      "text/plain": [
       "<IPython.core.display.HTML object>"
      ]
     },
     "metadata": {},
     "output_type": "display_data"
    },
    {
     "name": "stdout",
     "output_type": "stream",
     "text": [
      "\n",
      "Using the 'ent' visualizer\n",
      "Serving on http://0.0.0.0:8000 ...\n",
      "\n"
     ]
    },
    {
     "name": "stderr",
     "output_type": "stream",
     "text": [
      "127.0.0.1 - - [14/Apr/2022 03:20:37] \"GET / HTTP/1.1\" 200 4642\n",
      "127.0.0.1 - - [14/Apr/2022 03:20:38] \"GET /favicon.ico HTTP/1.1\" 200 4642\n"
     ]
    },
    {
     "name": "stdout",
     "output_type": "stream",
     "text": [
      "Shutting down server on port 8000.\n"
     ]
    }
   ],
   "source": [
    "spacy.displacy.render(doc_predict, style='ent', port = 8000)"
   ]
  },
  {
   "cell_type": "code",
   "execution_count": null,
   "metadata": {},
   "outputs": [],
   "source": []
  },
  {
   "cell_type": "code",
   "execution_count": null,
   "metadata": {},
   "outputs": [],
   "source": []
  },
  {
   "cell_type": "code",
   "execution_count": null,
   "metadata": {},
   "outputs": [],
   "source": []
  }
 ],
 "metadata": {
  "interpreter": {
   "hash": "37721641327674084b208e452fb6a40a0d8cc8b2bb2567351299f7bbd55e62eb"
  },
  "kernelspec": {
   "display_name": "Python 3.9.7 ('dplearning')",
   "language": "python",
   "name": "python3"
  },
  "language_info": {
   "codemirror_mode": {
    "name": "ipython",
    "version": 3
   },
   "file_extension": ".py",
   "mimetype": "text/x-python",
   "name": "python",
   "nbconvert_exporter": "python",
   "pygments_lexer": "ipython3",
   "version": "3.9.7"
  },
  "orig_nbformat": 4
 },
 "nbformat": 4,
 "nbformat_minor": 2
}
