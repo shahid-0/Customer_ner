{
 "cells": [
  {
   "cell_type": "code",
   "execution_count": 26,
   "id": "7bbce774",
   "metadata": {},
   "outputs": [],
   "source": [
    "import spacy \n",
    "from spacy.tokens import DocBin\n",
    "from tqdm import tqdm\n",
    "\n",
    "nlp = spacy.blank('en')   # Load a new spacy model\n",
    "db = DocBin()    # Create a DocBin object"
   ]
  },
  {
   "cell_type": "code",
   "execution_count": 27,
   "id": "ccc847d0",
   "metadata": {},
   "outputs": [],
   "source": [
    "import json\n",
    "train = open(\"train.json\", encoding='utf-8')\n",
    "validation = open('validation.json', encoding='utf-8')\n",
    "TRAIN_DATA = json.load(train)\n",
    "VALIDATION_DATA = json.load(validation)"
   ]
  },
  {
   "cell_type": "code",
   "execution_count": 28,
   "id": "9f1f3dc5",
   "metadata": {},
   "outputs": [
    {
     "name": "stderr",
     "output_type": "stream",
     "text": [
      "100%|███████████████████████████████████████████████████████████████████████████████████| 9/9 [00:00<00:00, 250.15it/s]\n"
     ]
    }
   ],
   "source": [
    "for text, annot in tqdm(TRAIN_DATA['annotations']):\n",
    "    doc = nlp.make_doc(text)\n",
    "    ents = []\n",
    "    for start, end, label in annot['entities']:\n",
    "        span = doc.char_span(start, end, label=label, alignment_mode = \"contract\")\n",
    "        if span is None:\n",
    "            print(\"Skipping Entities\")\n",
    "        else:\n",
    "            ents.append(span)\n",
    "    doc.ents = ents\n",
    "    db.add(doc)\n",
    "    \n",
    "db.to_disk(\"./training_data.spacy\")   #save the docbin object"
   ]
  },
  {
   "cell_type": "markdown",
   "id": "187c945d",
   "metadata": {},
   "source": [
    "#### Create a Spacy data for Validation"
   ]
  },
  {
   "cell_type": "code",
   "execution_count": 29,
   "id": "66d588c1",
   "metadata": {},
   "outputs": [
    {
     "name": "stderr",
     "output_type": "stream",
     "text": [
      "100%|███████████████████████████████████████████████████████████████████████████████████| 6/6 [00:00<00:00, 375.23it/s]\n"
     ]
    }
   ],
   "source": [
    "for text, annot in tqdm(VALIDATION_DATA['annotations']):\n",
    "    doc = nlp.make_doc(text)\n",
    "    ents = []\n",
    "    for start, end, label in annot['entities']:\n",
    "        span = doc.char_span(start, end, label=label, alignment_mode = \"contract\")\n",
    "        if span is None:\n",
    "            print(\"Skipping Entities\")\n",
    "        else:\n",
    "            ents.append(span)\n",
    "    doc.ents = ents\n",
    "    db.add(doc)\n",
    "    \n",
    "db.to_disk(\"./validation_data.spacy\")"
   ]
  },
  {
   "cell_type": "code",
   "execution_count": 30,
   "id": "3d41195e",
   "metadata": {},
   "outputs": [
    {
     "name": "stdout",
     "output_type": "stream",
     "text": [
      "[+] Auto-filled config with all values\n",
      "[+] Saved config\n",
      "config.cfg\n",
      "You can now add your data and train your pipeline:\n",
      "python -m spacy train config.cfg --paths.train ./train.spacy --paths.dev ./dev.spacy\n"
     ]
    }
   ],
   "source": [
    "!python -m spacy init fill-config base_config.cfg config.cfg"
   ]
  },
  {
   "cell_type": "code",
   "execution_count": 31,
   "id": "a78fd5ed",
   "metadata": {},
   "outputs": [
    {
     "name": "stdout",
     "output_type": "stream",
     "text": [
      "[i] Saving to output directory: output\n",
      "[i] Using CPU\n",
      "\u001b[1m\n",
      "=========================== Initializing pipeline ===========================\u001b[0m\n",
      "[+] Initialized pipeline\n",
      "\u001b[1m\n",
      "============================= Training pipeline =============================\u001b[0m\n",
      "[i] Pipeline: ['tok2vec', 'ner']\n",
      "[i] Initial learn rate: 0.001\n",
      "E    #       LOSS TOK2VEC  LOSS NER  ENTS_F  ENTS_P  ENTS_R  SCORE \n",
      "---  ------  ------------  --------  ------  ------  ------  ------\n",
      "  0       0          0.00     43.69    0.00    0.00    0.00    0.00\n",
      " 36     200        222.12   1132.07   69.84   73.33   66.67    0.70\n",
      " 80     400          0.01      0.00   69.84   73.33   66.67    0.70\n",
      "135     600          0.00      0.00   69.84   73.33   66.67    0.70\n",
      "202     800          0.00      0.00   70.97   75.86   66.67    0.71\n",
      "291    1000          0.00      0.00   70.97   75.86   66.67    0.71\n",
      "391    1200          0.00      0.00   70.97   75.86   66.67    0.71\n",
      "500    1400          0.00      0.00   70.97   75.86   66.67    0.71\n",
      "700    1600          0.00      0.00   73.33   81.48   66.67    0.73\n",
      "900    1800          0.00      0.00   72.13   78.57   66.67    0.72\n",
      "1100    2000          0.00      0.00   69.84   73.33   66.67    0.70\n",
      "1300    2200          0.00      0.00   69.84   73.33   66.67    0.70\n",
      "1500    2400          0.00      0.00   69.84   73.33   66.67    0.70\n",
      "1700    2600          0.00      0.00   70.97   75.86   66.67    0.71\n",
      "1900    2800          0.00      0.00   70.97   75.86   66.67    0.71\n",
      "2100    3000          0.00      0.00   70.97   75.86   66.67    0.71\n",
      "2300    3200          0.00      0.00   70.97   75.86   66.67    0.71\n",
      "[+] Saved pipeline to output directory\n",
      "output\\model-last\n"
     ]
    },
    {
     "name": "stderr",
     "output_type": "stream",
     "text": [
      "[2022-04-08 02:31:47,118] [INFO] Set up nlp object from config\n",
      "[2022-04-08 02:31:47,137] [INFO] Pipeline: ['tok2vec', 'ner']\n",
      "[2022-04-08 02:31:47,146] [INFO] Created vocabulary\n",
      "[2022-04-08 02:31:47,148] [INFO] Finished initializing nlp object\n",
      "[2022-04-08 02:31:47,599] [INFO] Initialized pipeline components: ['tok2vec', 'ner']\n"
     ]
    }
   ],
   "source": [
    "!python -m spacy train config.cfg --output ./output"
   ]
  },
  {
   "cell_type": "code",
   "execution_count": 32,
   "id": "61f72a8f",
   "metadata": {},
   "outputs": [
    {
     "name": "stderr",
     "output_type": "stream",
     "text": [
      "C:\\Users\\Shahid Khan\\miniconda3\\lib\\site-packages\\spacy\\util.py:833: UserWarning: [W095] Model 'en_pipeline' (0.0.0) was trained with spaCy v3.2 and may not be 100% compatible with the current version (3.2.0). If you see errors or degraded performance, download a newer compatible model or retrain your custom model with the current spaCy version. For more details and available updates, run: python -m spacy validate\n",
      "  warnings.warn(warn_msg)\n"
     ]
    }
   ],
   "source": [
    "nlp_ner = spacy.load('output/model-best')"
   ]
  },
  {
   "cell_type": "code",
   "execution_count": 33,
   "id": "5310c821",
   "metadata": {},
   "outputs": [],
   "source": [
    "doc = nlp_ner('''A cryptocurrency, crypto-currency, or crypto is a digital currency designed to work as a medium of exchange through a computer network that is not reliant on any central authority, such as a government or bank, to uphold or maintain it.\n",
    "\n",
    "Individual coin ownership records are stored in a digital ledger, which is a computerized database using strong cryptography to secure transaction records, to control the creation of additional coins, and to verify the transfer of coin ownership.[1][2][3] Despite their name, cryptocurrencies are not necessarily considered to be currencies in the traditional sense and while varying categorical treatments have been applied to them, including classification as commodities, securities, as well as currencies, cryptocurrencies are generally viewed as a distinct asset class in practice.[4][5][6] Some crypto schemes use validators to maintain the cryptocurrency. In a proof-of-stake model, owners put up their tokens as collateral. In return, they get authority over the token in proportion to the amount they stake. Generally, these token stakers get additional ownership in the token over time via network fees, newly minted tokens or other such reward mechanisms''')"
   ]
  },
  {
   "cell_type": "code",
   "execution_count": 34,
   "id": "b98f1369",
   "metadata": {},
   "outputs": [
    {
     "data": {
      "text/html": [
       "<span class=\"tex2jax_ignore\"><div class=\"entities\" style=\"line-height: 2.5; direction: ltr\">A cryptocurrency, crypto-currency, or crypto is a digital currency designed to work as a medium of exchange through a computer network that is not reliant on any \n",
       "<mark class=\"entity\" style=\"background: #7aecec; padding: 0.45em 0.6em; margin: 0 0.25em; line-height: 1; border-radius: 0.35em;\">\n",
       "    central authority\n",
       "    <span style=\"font-size: 0.8em; font-weight: bold; line-height: 1; border-radius: 0.35em; vertical-align: middle; margin-left: 0.5rem\">ORG</span>\n",
       "</mark>\n",
       ", such as a government or bank, to uphold or maintain it.</br></br>Individual coin ownership records are stored in a digital ledger, which is a computerized database using strong cryptography to secure transaction records, to control the creation of additional \n",
       "<mark class=\"entity\" style=\"background: #ddd; padding: 0.45em 0.6em; margin: 0 0.25em; line-height: 1; border-radius: 0.35em;\">\n",
       "    coins\n",
       "    <span style=\"font-size: 0.8em; font-weight: bold; line-height: 1; border-radius: 0.35em; vertical-align: middle; margin-left: 0.5rem\">CRYPTO</span>\n",
       "</mark>\n",
       ", and to verify the transfer of coin ownership.[1][2][3] Despite their name, cryptocurrencies are not necessarily considered to be currencies in the traditional sense and while varying categorical treatments have been applied to them, including classification as commodities, securities, as well as currencies, cryptocurrencies are generally viewed as a distinct asset class in practice.[4][5][6] Some crypto schemes use validators to maintain the cryptocurrency. In a proof-of-stake model, owners put up their \n",
       "<mark class=\"entity\" style=\"background: #ddd; padding: 0.45em 0.6em; margin: 0 0.25em; line-height: 1; border-radius: 0.35em;\">\n",
       "    tokens\n",
       "    <span style=\"font-size: 0.8em; font-weight: bold; line-height: 1; border-radius: 0.35em; vertical-align: middle; margin-left: 0.5rem\">CRYPTO</span>\n",
       "</mark>\n",
       " as collateral. In return, they get authority over the token in proportion to the amount they stake. Generally, these token stakers get additional ownership in the token over time via network fees, newly minted \n",
       "<mark class=\"entity\" style=\"background: #ddd; padding: 0.45em 0.6em; margin: 0 0.25em; line-height: 1; border-radius: 0.35em;\">\n",
       "    tokens\n",
       "    <span style=\"font-size: 0.8em; font-weight: bold; line-height: 1; border-radius: 0.35em; vertical-align: middle; margin-left: 0.5rem\">CRYPTO</span>\n",
       "</mark>\n",
       " or other such reward mechanisms</div></span>"
      ],
      "text/plain": [
       "<IPython.core.display.HTML object>"
      ]
     },
     "metadata": {},
     "output_type": "display_data"
    }
   ],
   "source": [
    "spacy.displacy.render(doc, style='ent')"
   ]
  },
  {
   "cell_type": "code",
   "execution_count": null,
   "id": "3df5b11c",
   "metadata": {},
   "outputs": [],
   "source": []
  },
  {
   "cell_type": "code",
   "execution_count": null,
   "id": "45f75e37",
   "metadata": {},
   "outputs": [],
   "source": []
  },
  {
   "cell_type": "code",
   "execution_count": null,
   "id": "f5e5af1e",
   "metadata": {},
   "outputs": [],
   "source": []
  },
  {
   "cell_type": "code",
   "execution_count": null,
   "id": "38da43a8",
   "metadata": {},
   "outputs": [],
   "source": []
  }
 ],
 "metadata": {
  "kernelspec": {
   "display_name": "Python 3 (ipykernel)",
   "language": "python",
   "name": "python3"
  },
  "language_info": {
   "codemirror_mode": {
    "name": "ipython",
    "version": 3
   },
   "file_extension": ".py",
   "mimetype": "text/x-python",
   "name": "python",
   "nbconvert_exporter": "python",
   "pygments_lexer": "ipython3",
   "version": "3.9.7"
  }
 },
 "nbformat": 4,
 "nbformat_minor": 5
}
